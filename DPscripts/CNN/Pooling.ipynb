{
 "cells": [
  {
   "cell_type": "code",
   "execution_count": 26,
   "metadata": {
    "collapsed": true,
    "pycharm": {
     "is_executing": false
    }
   },
   "outputs": [
    {
     "data": {
      "text/plain": "'\\n实际图像里，我们所感兴趣的物体不会总是出现在同一个地方，这些物品\\n一定会出现在不同的像素位置，因此导致同一个边缘的输出会在总的卷积输出Y\\n的不同同位置，造成模式识别的不便\\n而池化层的提出是为了缓解卷积层对位置的过度敏感性\\n'"
     },
     "metadata": {},
     "output_type": "execute_result",
     "execution_count": 26
    }
   ],
   "source": [
    "'''\n",
    "实际图像里，我们所感兴趣的物体不会总是出现在同一个地方，这些物品\n",
    "一定会出现在不同的像素位置，因此导致同一个边缘的输出会在总的卷积输出Y\n",
    "的不同同位置，造成模式识别的不便\n",
    "而池化层的提出是为了缓解卷积层对位置的过度敏感性\n",
    "'''\n"
   ]
  },
  {
   "cell_type": "code",
   "execution_count": 27,
   "outputs": [
    {
     "data": {
      "text/plain": "tensor([[4., 5.],\n        [7., 8.]])"
     },
     "metadata": {},
     "output_type": "execute_result",
     "execution_count": 27
    }
   ],
   "source": [
    "'''二维最大池化函数和平均池化层'''\n",
    "\n",
    "import torch\n",
    "from torch import nn\n",
    "#这里的mode参数可以填max 也可以天avg\n",
    "def pool2d(X,pool_size,mode='max'):\n",
    "    X=X.float()\n",
    "    p_h,p_w=pool_size\n",
    "    #初始化一个池化过后的空tensor\n",
    "    Y=torch.zeros(X.shape[0] - p_h+1,X.shape[1]-p_w+1)\n",
    "    for i in range(Y.shape[0]):\n",
    "        for j in range(Y.shape[1]):\n",
    "            if mode=='max':\n",
    "                Y[i,j]=X[i:i+p_h,j:j+p_w].max()\n",
    "            elif mode=='avg':\n",
    "                Y[i, j] = X[i: i + p_h, j: j + p_w].mean()\n",
    "    return Y\n",
    "X = torch.tensor([[0, 1, 2], [3, 4, 5], [6, 7, 8]])\n",
    "pool2d(X, (2, 2))"
   ],
   "metadata": {
    "collapsed": false,
    "pycharm": {
     "name": "#%%\n",
     "is_executing": false
    }
   }
  },
  {
   "cell_type": "code",
   "execution_count": 28,
   "outputs": [
    {
     "name": "stdout",
     "text": [
      "tensor([[[[ 0.,  1.,  2.,  3.],\n",
      "          [ 4.,  5.,  6.,  7.],\n",
      "          [ 8.,  9., 10., 11.],\n",
      "          [12., 13., 14., 15.]]]])\n"
     ],
     "output_type": "stream"
    },
    {
     "data": {
      "text/plain": "tensor([[[[ 1.,  3.],\n          [ 9., 11.],\n          [13., 15.]]]])"
     },
     "metadata": {},
     "output_type": "execute_result",
     "execution_count": 28
    }
   ],
   "source": [
    "'''填充和步幅'''\n",
    "'''\n",
    "和卷积层一样，池化层也可以用填充和步幅来改变输出形状\n",
    "这里使用nn模块中的MaxPool2d池化层\n",
    "'''\n",
    "#首先构造一个形状维（1，1，4，4）的输入数据，前两个维度维批量和通道\n",
    "X=torch.arange(16,dtype=torch.float).view((1,1,4,4))\n",
    "print(X)\n",
    "\n",
    "#默认情况下MaxPool2d的步幅和池化层窗口形状相同，即3*3的输入，池化层的步幅也是3*3\n",
    "pool2d=nn.MaxPool2d(3)\n",
    "pool2d(X)\n",
    "\n",
    "#手动指定非正方形的池化窗口，并指定高和宽上的填充和步幅\n",
    "pool2d = nn.MaxPool2d((2, 4), padding=(1, 2), stride=(2, 3))\n",
    "pool2d(X)"
   ],
   "metadata": {
    "collapsed": false,
    "pycharm": {
     "name": "#%%\n",
     "is_executing": false
    }
   }
  },
  {
   "cell_type": "code",
   "execution_count": 29,
   "outputs": [
    {
     "name": "stdout",
     "text": [
      "torch.Size([1, 2, 4, 4])\n",
      "tensor([[[[ 5.,  7.],\n",
      "          [13., 15.]],\n",
      "\n",
      "         [[ 6.,  8.],\n",
      "          [14., 16.]]]])\n"
     ],
     "output_type": "stream"
    }
   ],
   "source": [
    "'''多通道'''\n",
    "'''\n",
    "池化层对于多通道的处理方式和卷积层不同，卷积层是将输入按权计算再按通道相加\n",
    "而池化层没有后一步，也就是说池化层的输入通道和输出通道是一样的\n",
    "'''\n",
    "# 构造通道为2的输入\n",
    "X=torch.cat((X, X + 1), dim=1)\n",
    "print(X.shape)\n",
    "#池化后通道数还是2\n",
    "pool2d=nn.MaxPool2d(3,padding=1,stride=2)\n",
    "print(pool2d(X))\n"
   ],
   "metadata": {
    "collapsed": false,
    "pycharm": {
     "name": "#%%\n",
     "is_executing": false
    }
   }
  }
 ],
 "metadata": {
  "kernelspec": {
   "display_name": "Python 3",
   "language": "python",
   "name": "python3"
  },
  "language_info": {
   "codemirror_mode": {
    "name": "ipython",
    "version": 2
   },
   "file_extension": ".py",
   "mimetype": "text/x-python",
   "name": "python",
   "nbconvert_exporter": "python",
   "pygments_lexer": "ipython2",
   "version": "2.7.6"
  },
  "pycharm": {
   "stem_cell": {
    "cell_type": "raw",
    "source": [],
    "metadata": {
     "collapsed": false
    }
   }
  }
 },
 "nbformat": 4,
 "nbformat_minor": 0
}