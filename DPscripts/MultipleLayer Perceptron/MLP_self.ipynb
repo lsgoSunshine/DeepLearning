{
 "cells": [
  {
   "cell_type": "code",
   "execution_count": 3,
   "metadata": {
    "collapsed": true,
    "pycharm": {
     "is_executing": false
    }
   },
   "outputs": [],
   "source": [
    "import torch\n",
    "import numpy as np\n",
    "import sys\n",
    "\n",
    "sys.path.append('..')\n",
    "from dlzh import d2lzh_pytorch as d2l"
   ]
  },
  {
   "cell_type": "code",
   "execution_count": 4,
   "outputs": [],
   "source": [
    "\n",
    "batch_size = 256\n",
    "train_iter,test_iter=d2l.load_data_fashion_mnist(batch_size)\n",
    "\n",
    "num_inputs,num_outputs,num_hidden=784,10,256\n",
    "W1=torch.tensor(np.random.normal(0,0.01,(num_inputs,num_hidden)),dtype=torch.float,requires_grad=True)\n",
    "b1=torch.zeros(num_hidden,dtype=torch.float,requires_grad=True)\n",
    "W2=torch.tensor(np.random.normal(0,0.01,(num_hidden,num_outputs)),dtype=torch.float,requires_grad=True)\n",
    "b2=torch.zeros(num_outputs,dtype=torch.float,requires_grad=True)\n",
    "\n",
    "params=[W1,b1,W2,b2]"
   ],
   "metadata": {
    "collapsed": false,
    "pycharm": {
     "name": "#%%\n",
     "is_executing": false
    }
   }
  },
  {
   "cell_type": "code",
   "execution_count": 17,
   "outputs": [],
   "source": [
    "#定义relu函数\n",
    "def relu(X):\n",
    "    return torch.max(input=X, other=torch.tensor(0.0))\n",
    "#定义模型\n",
    "def net(X):\n",
    "    X=X.view((-1,num_inputs))\n",
    "    H=relu(torch.matmul(X,W1)+b1)\n",
    "    return torch.matmul(H,W2)+b2\n",
    "#定义损失函数\n",
    "loss=torch.nn.CrossEntropyLoss()"
   ],
   "metadata": {
    "collapsed": false,
    "pycharm": {
     "name": "#%%\n",
     "is_executing": false
    }
   }
  },
  {
   "cell_type": "code",
   "execution_count": 18,
   "outputs": [
    {
     "name": "stdout",
     "text": [
      "epoch 1, loss 0.0031, train acc 0.708, test acc 0.785\n",
      "epoch 2, loss 0.0019, train acc 0.821, test acc 0.829\n",
      "epoch 3, loss 0.0017, train acc 0.843, test acc 0.827\n",
      "epoch 4, loss 0.0015, train acc 0.856, test acc 0.841\n",
      "epoch 5, loss 0.0015, train acc 0.863, test acc 0.820\n",
      "epoch 6, loss 0.0014, train acc 0.869, test acc 0.825\n",
      "epoch 7, loss 0.0013, train acc 0.877, test acc 0.843\n",
      "epoch 8, loss 0.0013, train acc 0.879, test acc 0.848\n",
      "epoch 9, loss 0.0012, train acc 0.883, test acc 0.844\n",
      "epoch 10, loss 0.0012, train acc 0.886, test acc 0.838\n"
     ],
     "output_type": "stream"
    }
   ],
   "source": [
    "#这里学习率这么大的原因就是在sgd函数中计算梯度的时候除以了batch_size\n",
    "num_epochs, lr=10,100.0\n",
    "d2l.train_ch3(net,train_iter,test_iter,loss,num_epochs,batch_size,params,lr)"
   ],
   "metadata": {
    "collapsed": false,
    "pycharm": {
     "name": "#%%\n",
     "is_executing": false
    }
   }
  },
  {
   "cell_type": "code",
   "execution_count": 12,
   "outputs": [],
   "source": [
    "\n"
   ],
   "metadata": {
    "collapsed": false,
    "pycharm": {
     "name": "#%%\n",
     "is_executing": false
    }
   }
  }
 ],
 "metadata": {
  "kernelspec": {
   "display_name": "Python 3",
   "language": "python",
   "name": "python3"
  },
  "language_info": {
   "codemirror_mode": {
    "name": "ipython",
    "version": 2
   },
   "file_extension": ".py",
   "mimetype": "text/x-python",
   "name": "python",
   "nbconvert_exporter": "python",
   "pygments_lexer": "ipython2",
   "version": "2.7.6"
  },
  "pycharm": {
   "stem_cell": {
    "cell_type": "raw",
    "source": [],
    "metadata": {
     "collapsed": false
    }
   }
  }
 },
 "nbformat": 4,
 "nbformat_minor": 0
}