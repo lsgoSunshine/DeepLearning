{
 "cells": [
  {
   "cell_type": "code",
   "execution_count": 3,
   "metadata": {
    "collapsed": true,
    "pycharm": {
     "is_executing": false,
     "name": "#%%\n"
    }
   },
   "outputs": [],
   "source": [
    "import torch\n",
    "from torch import nn\n",
    "from torch.nn import init\n",
    "import numpy as np\n",
    "import sys\n",
    "sys.path.append('..')\n",
    "import dlzh.d2lzh_pytorch as d2l\n"
   ]
  },
  {
   "cell_type": "code",
   "execution_count": 4,
   "outputs": [],
   "source": [
    "#定义模型\n",
    "num_inputs, num_outputs, num_hiddens = 784, 10, 256\n",
    "net=nn.Sequential(\n",
    "    d2l.FlattenLayer(),\n",
    "    nn.Linear(num_inputs,num_hiddens),\n",
    "    nn.ReLU(),\n",
    "    nn.Linear(num_hiddens,num_outputs)\n",
    ")\n",
    "for param in net.parameters():\n",
    "    init.normal_(param,mean=0,std=0.01)\n"
   ],
   "metadata": {
    "collapsed": false,
    "pycharm": {
     "name": "#%%\n",
     "is_executing": false
    }
   }
  },
  {
   "cell_type": "code",
   "execution_count": 6,
   "outputs": [
    {
     "name": "stdout",
     "text": [
      "epoch 1, loss 0.0014, train acc 0.871, test acc 0.855\n",
      "epoch 2, loss 0.0013, train acc 0.875, test acc 0.840\n",
      "epoch 3, loss 0.0013, train acc 0.880, test acc 0.856\n",
      "epoch 4, loss 0.0012, train acc 0.884, test acc 0.864\n",
      "epoch 5, loss 0.0012, train acc 0.887, test acc 0.864\n",
      "epoch 6, loss 0.0012, train acc 0.890, test acc 0.865\n",
      "epoch 7, loss 0.0011, train acc 0.892, test acc 0.841\n",
      "epoch 8, loss 0.0011, train acc 0.895, test acc 0.857\n",
      "epoch 9, loss 0.0011, train acc 0.898, test acc 0.867\n",
      "epoch 10, loss 0.0011, train acc 0.900, test acc 0.858\n"
     ],
     "output_type": "stream"
    }
   ],
   "source": [
    "batch_size=256\n",
    "train_iter, test_iter=d2l.load_data_fashion_mnist(batch_size)\n",
    "loss=torch.nn.CrossEntropyLoss()\n",
    "# 这里的优化函数是使用的torch包中的，因此学习率比较正常\n",
    "optimizer=torch.optim.SGD(net.parameters(),lr=0.5)\n",
    "\n",
    "num_enpochs=10\n",
    "d2l.train_ch3(net,train_iter,test_iter,loss,num_enpochs,batch_size,None,None,optimizer)\n"
   ],
   "metadata": {
    "collapsed": false,
    "pycharm": {
     "name": "#%%\n",
     "is_executing": false
    }
   }
  }
 ],
 "metadata": {
  "kernelspec": {
   "display_name": "Python 3",
   "language": "python",
   "name": "python3"
  },
  "language_info": {
   "codemirror_mode": {
    "name": "ipython",
    "version": 2
   },
   "file_extension": ".py",
   "mimetype": "text/x-python",
   "name": "python",
   "nbconvert_exporter": "python",
   "pygments_lexer": "ipython2",
   "version": "2.7.6"
  },
  "pycharm": {
   "stem_cell": {
    "cell_type": "raw",
    "source": [],
    "metadata": {
     "collapsed": false
    }
   }
  }
 },
 "nbformat": 4,
 "nbformat_minor": 0
}